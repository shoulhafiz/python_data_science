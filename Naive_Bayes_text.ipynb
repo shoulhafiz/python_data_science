{
  "nbformat": 4,
  "nbformat_minor": 0,
  "metadata": {
    "colab": {
      "name": "Naive_Bayes-text.ipynb",
      "provenance": [],
      "include_colab_link": true
    },
    "kernelspec": {
      "name": "python3",
      "display_name": "Python 3"
    }
  },
  "cells": [
    {
      "cell_type": "markdown",
      "metadata": {
        "id": "view-in-github",
        "colab_type": "text"
      },
      "source": [
        "<a href=\"https://colab.research.google.com/github/shoulhafiz/python_data_science/blob/master/Naive_Bayes_text.ipynb\" target=\"_parent\"><img src=\"https://colab.research.google.com/assets/colab-badge.svg\" alt=\"Open In Colab\"/></a>"
      ]
    },
    {
      "cell_type": "code",
      "metadata": {
        "id": "FEZEpehzxpZi",
        "colab_type": "code",
        "colab": {
          "base_uri": "https://localhost:8080/",
          "height": 202
        },
        "outputId": "7da5fbe5-ab1c-4ed4-bcfa-25bbe59a6c5e"
      },
      "source": [
        "  !wget https://raw.githubusercontent.com/huseinzol05/Malaya-Dataset/master/political-landscape/political-landscape.json\n"
      ],
      "execution_count": 1,
      "outputs": [
        {
          "output_type": "stream",
          "text": [
            "--2019-11-06 03:36:03--  https://raw.githubusercontent.com/huseinzol05/Malaya-Dataset/master/political-landscape/political-landscape.json\n",
            "Resolving raw.githubusercontent.com (raw.githubusercontent.com)... 151.101.0.133, 151.101.64.133, 151.101.128.133, ...\n",
            "Connecting to raw.githubusercontent.com (raw.githubusercontent.com)|151.101.0.133|:443... connected.\n",
            "HTTP request sent, awaiting response... 200 OK\n",
            "Length: 2020656 (1.9M) [text/plain]\n",
            "Saving to: ‘political-landscape.json’\n",
            "\n",
            "\rpolitical-landscape   0%[                    ]       0  --.-KB/s               \rpolitical-landscape 100%[===================>]   1.93M  --.-KB/s    in 0.05s   \n",
            "\n",
            "2019-11-06 03:36:03 (35.3 MB/s) - ‘political-landscape.json’ saved [2020656/2020656]\n",
            "\n"
          ],
          "name": "stdout"
        }
      ]
    },
    {
      "cell_type": "markdown",
      "metadata": {
        "id": "T9BFVXCAyC0a",
        "colab_type": "text"
      },
      "source": [
        "https://scikit-learn.org/stable/tutorial/machine_learning_map/index.html"
      ]
    },
    {
      "cell_type": "code",
      "metadata": {
        "id": "Ai9-2io1yKC_",
        "colab_type": "code",
        "colab": {
          "base_uri": "https://localhost:8080/",
          "height": 34
        },
        "outputId": "a12f8694-40d6-422d-a339-2b6a1e3c6e9b"
      },
      "source": [
        "import json\n",
        "\n",
        "with open('political-landscape.json') as fopen:\n",
        "  politics = json.load(fopen)\n",
        "\n",
        "politics.keys()"
      ],
      "execution_count": 2,
      "outputs": [
        {
          "output_type": "execute_result",
          "data": {
            "text/plain": [
              "dict_keys(['kerajaan', 'pembangkang'])"
            ]
          },
          "metadata": {
            "tags": []
          },
          "execution_count": 2
        }
      ]
    },
    {
      "cell_type": "code",
      "metadata": {
        "id": "nuImVtDeymdz",
        "colab_type": "code",
        "colab": {}
      },
      "source": [
        "X = politics['kerajaan'] + politics['pembangkang']\n",
        "Y = [0] * len(politics['kerajaan']) + [1] * len(politics['pembangkang']) #assign 0 to kerajaan, 1 to pembangkang\n"
      ],
      "execution_count": 0,
      "outputs": []
    },
    {
      "cell_type": "code",
      "metadata": {
        "id": "kVrSnN58ypmM",
        "colab_type": "code",
        "colab": {}
      },
      "source": [
        "import re\n",
        "\n",
        "def cleaning(string):\n",
        "  string = re.sub(\n",
        "        'http\\S+|www.\\S+',\n",
        "        '',\n",
        "        ' '.join(\n",
        "            [\n",
        "                word\n",
        "                for word in string.split()\n",
        "                if word.find('#') < 0 and word.find('@') < 0\n",
        "            ]\n",
        "        ),\n",
        "    )\n",
        "  string = re.sub('[^A-Za-z ]+', ' ', string)\n",
        "  string = re.sub(r'[ ]+', ' ', string).strip()\n",
        "  return string.lower()\n",
        "\n",
        "\n",
        "X[0], cleaning(X[0])\n",
        "\n",
        "for i in range(len(X)):\n",
        "  X[i] = cleaning(X[i])"
      ],
      "execution_count": 0,
      "outputs": []
    },
    {
      "cell_type": "code",
      "metadata": {
        "id": "Ox5XUzSDy48_",
        "colab_type": "code",
        "colab": {
          "base_uri": "https://localhost:8080/",
          "height": 34
        },
        "outputId": "150999e7-f125-4430-884c-b36341d9555f"
      },
      "source": [
        "# bow\n",
        "# https://scikit-learn.org/stable/modules/generated/sklearn.feature_extraction.text.CountVectorizer.html\n",
        "from sklearn.feature_extraction.text import CountVectorizer\n",
        "\n",
        "bow_word = CountVectorizer(ngram_range=(1, 2)).fit(X)\n",
        "bow_char = CountVectorizer(ngram_range=(3, 5), analyzer='char').fit(X)\n",
        "\n",
        "X_bow_word = bow_word.transform(X)\n",
        "X_bow_char = bow_char.transform(X)\n",
        "\n",
        "X_bow_word.shape, X_bow_char.shape\n"
      ],
      "execution_count": 8,
      "outputs": [
        {
          "output_type": "execute_result",
          "data": {
            "text/plain": [
              "((22577, 160054), (22577, 191850))"
            ]
          },
          "metadata": {
            "tags": []
          },
          "execution_count": 8
        }
      ]
    },
    {
      "cell_type": "code",
      "metadata": {
        "id": "mWMbvhTa4Z4L",
        "colab_type": "code",
        "colab": {
          "base_uri": "https://localhost:8080/",
          "height": 34
        },
        "outputId": "18695b7c-66e9-4e5f-cd16-1c614cea647f"
      },
      "source": [
        "# tfidf\n",
        "# https://scikit-learn.org/stable/modules/generated/sklearn.feature_extraction.text.TfidfVectorizer.html#sklearn.feature_extraction.text.TfidfVectorizer\n",
        "\n",
        "from sklearn.feature_extraction.text import TfidfVectorizer\n",
        "\n",
        "tfidf_word = TfidfVectorizer(ngram_range=(1, 2)).fit(X)\n",
        "tfidf_char = TfidfVectorizer(ngram_range=(3, 5), analyzer='char').fit(X)\n",
        "\n",
        "X_tfidf_word = tfidf_word.transform(X)\n",
        "X_tfidf_char = tfidf_char.transform(X)\n",
        "\n",
        "X_tfidf_word.shape, X_tfidf_char.shape"
      ],
      "execution_count": 9,
      "outputs": [
        {
          "output_type": "execute_result",
          "data": {
            "text/plain": [
              "((22577, 160054), (22577, 191850))"
            ]
          },
          "metadata": {
            "tags": []
          },
          "execution_count": 9
        }
      ]
    },
    {
      "cell_type": "code",
      "metadata": {
        "id": "TE5O-H2w4ezK",
        "colab_type": "code",
        "colab": {}
      },
      "source": [
        "from sklearn.model_selection import train_test_split\n",
        "\n",
        "train_X, test_X, train_Y, test_Y = train_test_split(X_bow_word, Y, test_size = 0.2)\n"
      ],
      "execution_count": 0,
      "outputs": []
    },
    {
      "cell_type": "code",
      "metadata": {
        "id": "NU_jNWuX6UJf",
        "colab_type": "code",
        "colab": {}
      },
      "source": [
        "# https://scikit-learn.org/stable/modules/generated/sklearn.naive_bayes.MultinomialNB.html#sklearn.naive_bayes.MultinomialNB\n",
        "\n",
        "from sklearn import metrics\n",
        "from sklearn.naive_bayes import MultinomialNB\n"
      ],
      "execution_count": 0,
      "outputs": []
    },
    {
      "cell_type": "code",
      "metadata": {
        "id": "YLTiitHK6sYK",
        "colab_type": "code",
        "colab": {}
      },
      "source": [
        "nb_bow_word = MultinomialNB().fit(train_X, train_Y)\n",
        "predict_Y = nb_bow_word.predict(test_X)"
      ],
      "execution_count": 0,
      "outputs": []
    },
    {
      "cell_type": "code",
      "metadata": {
        "id": "bNnN9Ha-7Ia6",
        "colab_type": "code",
        "colab": {
          "base_uri": "https://localhost:8080/",
          "height": 168
        },
        "outputId": "62fa6606-cfa8-4261-a146-2670403c7cab"
      },
      "source": [
        "print(\n",
        "    metrics.classification_report(\n",
        "        test_Y, predict_Y, target_names = ['kerajaan', 'pembangkang'],\n",
        "        digits = 5\n",
        "    )\n",
        ")"
      ],
      "execution_count": 20,
      "outputs": [
        {
          "output_type": "stream",
          "text": [
            "              precision    recall  f1-score   support\n",
            "\n",
            "    kerajaan    0.95638   0.93795   0.94707      3062\n",
            " pembangkang    0.87442   0.90990   0.89181      1454\n",
            "\n",
            "    accuracy                        0.92892      4516\n",
            "   macro avg    0.91540   0.92393   0.91944      4516\n",
            "weighted avg    0.92999   0.92892   0.92928      4516\n",
            "\n"
          ],
          "name": "stdout"
        }
      ]
    },
    {
      "cell_type": "code",
      "metadata": {
        "id": "shPYTNiL7QFI",
        "colab_type": "code",
        "colab": {
          "base_uri": "https://localhost:8080/",
          "height": 50
        },
        "outputId": "e8aad17f-8567-4cc5-dab6-c0f0cdb7f19a"
      },
      "source": [
        "string = ['saya suka najib', 'saya suka dap']\n",
        "\n",
        "new_bow_word = bow_word.transform(string)\n",
        "nb_bow_word.predict_proba(new_bow_word)"
      ],
      "execution_count": 21,
      "outputs": [
        {
          "output_type": "execute_result",
          "data": {
            "text/plain": [
              "array([[0.01459739, 0.98540261],\n",
              "       [0.097845  , 0.902155  ]])"
            ]
          },
          "metadata": {
            "tags": []
          },
          "execution_count": 21
        }
      ]
    },
    {
      "cell_type": "code",
      "metadata": {
        "id": "c6ls6NLC7YQd",
        "colab_type": "code",
        "colab": {}
      },
      "source": [
        "train_X, test_X, train_Y, test_Y = train_test_split(X_bow_char, Y, \n",
        "                                                    test_size = 0.2)\n",
        "\n",
        "nb_bow_char = MultinomialNB().fit(train_X, train_Y)\n",
        "predict_Y = nb_bow_char.predict(test_X)\n"
      ],
      "execution_count": 0,
      "outputs": []
    },
    {
      "cell_type": "code",
      "metadata": {
        "id": "bU2XsI3q7Zuf",
        "colab_type": "code",
        "colab": {
          "base_uri": "https://localhost:8080/",
          "height": 168
        },
        "outputId": "5973856a-3b9d-4254-c193-037632bdc0f2"
      },
      "source": [
        "print(\n",
        "    metrics.classification_report(\n",
        "        test_Y, predict_Y, target_names = ['kerajaan', 'pembangkang'],\n",
        "        digits = 5\n",
        "    )\n",
        ")"
      ],
      "execution_count": 23,
      "outputs": [
        {
          "output_type": "stream",
          "text": [
            "              precision    recall  f1-score   support\n",
            "\n",
            "    kerajaan    0.95684   0.94733   0.95206      3019\n",
            " pembangkang    0.89587   0.91383   0.90476      1497\n",
            "\n",
            "    accuracy                        0.93623      4516\n",
            "   macro avg    0.92636   0.93058   0.92841      4516\n",
            "weighted avg    0.93663   0.93623   0.93638      4516\n",
            "\n"
          ],
          "name": "stdout"
        }
      ]
    },
    {
      "cell_type": "code",
      "metadata": {
        "id": "9O4EpuZT7eh8",
        "colab_type": "code",
        "colab": {
          "base_uri": "https://localhost:8080/",
          "height": 50
        },
        "outputId": "7ab35425-8dc1-4fe2-97f3-cdea84c4a272"
      },
      "source": [
        "string = ['saya suka najib', 'saya suka dap']\n",
        "\n",
        "new_bow_char = bow_char.transform(string)\n",
        "nb_bow_char.predict_proba(new_bow_char)"
      ],
      "execution_count": 24,
      "outputs": [
        {
          "output_type": "execute_result",
          "data": {
            "text/plain": [
              "array([[1.71932963e-05, 9.99982807e-01],\n",
              "       [2.21548442e-02, 9.77845156e-01]])"
            ]
          },
          "metadata": {
            "tags": []
          },
          "execution_count": 24
        }
      ]
    }
  ]
}