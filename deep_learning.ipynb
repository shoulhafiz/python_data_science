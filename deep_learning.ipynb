{
  "nbformat": 4,
  "nbformat_minor": 0,
  "metadata": {
    "colab": {
      "name": "deep learning.ipynb",
      "provenance": [],
      "include_colab_link": true
    },
    "kernelspec": {
      "name": "python3",
      "display_name": "Python 3"
    },
    "accelerator": "GPU"
  },
  "cells": [
    {
      "cell_type": "markdown",
      "metadata": {
        "id": "view-in-github",
        "colab_type": "text"
      },
      "source": [
        "<a href=\"https://colab.research.google.com/github/shoulhafiz/python_data_science/blob/master/deep_learning.ipynb\" target=\"_parent\"><img src=\"https://colab.research.google.com/assets/colab-badge.svg\" alt=\"Open In Colab\"/></a>"
      ]
    },
    {
      "cell_type": "code",
      "metadata": {
        "id": "qrKZ2H4-aDQ7",
        "colab_type": "code",
        "colab": {
          "base_uri": "https://localhost:8080/",
          "height": 34
        },
        "outputId": "39b3f629-6dfb-4b7d-9226-d704c8f40160"
      },
      "source": [
        "import tensorflow as tf\n",
        "tf.__version__"
      ],
      "execution_count": 11,
      "outputs": [
        {
          "output_type": "execute_result",
          "data": {
            "text/plain": [
              "'1.15.0'"
            ]
          },
          "metadata": {
            "tags": []
          },
          "execution_count": 11
        }
      ]
    },
    {
      "cell_type": "code",
      "metadata": {
        "id": "QczCfMy9aQtf",
        "colab_type": "code",
        "colab": {
          "base_uri": "https://localhost:8080/",
          "height": 538
        },
        "outputId": "12154e29-a7fb-442c-8b33-7209d0c374a0"
      },
      "source": [
        "from tensorflow.python.client import device_lib\n",
        "print(device_lib.list_local_devices())"
      ],
      "execution_count": 12,
      "outputs": [
        {
          "output_type": "stream",
          "text": [
            "[name: \"/device:CPU:0\"\n",
            "device_type: \"CPU\"\n",
            "memory_limit: 268435456\n",
            "locality {\n",
            "}\n",
            "incarnation: 8954366952619249161\n",
            ", name: \"/device:XLA_CPU:0\"\n",
            "device_type: \"XLA_CPU\"\n",
            "memory_limit: 17179869184\n",
            "locality {\n",
            "}\n",
            "incarnation: 13738898916378863075\n",
            "physical_device_desc: \"device: XLA_CPU device\"\n",
            ", name: \"/device:XLA_GPU:0\"\n",
            "device_type: \"XLA_GPU\"\n",
            "memory_limit: 17179869184\n",
            "locality {\n",
            "}\n",
            "incarnation: 10839950749418092712\n",
            "physical_device_desc: \"device: XLA_GPU device\"\n",
            ", name: \"/device:GPU:0\"\n",
            "device_type: \"GPU\"\n",
            "memory_limit: 11330115994\n",
            "locality {\n",
            "  bus_id: 1\n",
            "  links {\n",
            "  }\n",
            "}\n",
            "incarnation: 6266767795832826728\n",
            "physical_device_desc: \"device: 0, name: Tesla K80, pci bus id: 0000:00:04.0, compute capability: 3.7\"\n",
            "]\n"
          ],
          "name": "stdout"
        }
      ]
    },
    {
      "cell_type": "code",
      "metadata": {
        "id": "_LyjW8tRaSis",
        "colab_type": "code",
        "colab": {
          "base_uri": "https://localhost:8080/",
          "height": 286
        },
        "outputId": "ea002233-ecbb-446e-aaa1-de7459d7152c"
      },
      "source": [
        "!nvidia-smi"
      ],
      "execution_count": 13,
      "outputs": [
        {
          "output_type": "stream",
          "text": [
            "Wed Nov 20 06:08:16 2019       \n",
            "+-----------------------------------------------------------------------------+\n",
            "| NVIDIA-SMI 430.50       Driver Version: 418.67       CUDA Version: 10.1     |\n",
            "|-------------------------------+----------------------+----------------------+\n",
            "| GPU  Name        Persistence-M| Bus-Id        Disp.A | Volatile Uncorr. ECC |\n",
            "| Fan  Temp  Perf  Pwr:Usage/Cap|         Memory-Usage | GPU-Util  Compute M. |\n",
            "|===============================+======================+======================|\n",
            "|   0  Tesla K80           Off  | 00000000:00:04.0 Off |                    0 |\n",
            "| N/A   42C    P0    60W / 149W |    158MiB / 11441MiB |      0%      Default |\n",
            "+-------------------------------+----------------------+----------------------+\n",
            "                                                                               \n",
            "+-----------------------------------------------------------------------------+\n",
            "| Processes:                                                       GPU Memory |\n",
            "|  GPU       PID   Type   Process name                             Usage      |\n",
            "|=============================================================================|\n",
            "+-----------------------------------------------------------------------------+\n"
          ],
          "name": "stdout"
        }
      ]
    },
    {
      "cell_type": "code",
      "metadata": {
        "id": "4Y1NTib5aUjc",
        "colab_type": "code",
        "colab": {
          "base_uri": "https://localhost:8080/",
          "height": 84
        },
        "outputId": "d36ef4ec-5b18-4654-ccb8-aef628a167b4"
      },
      "source": [
        "from tensorflow.examples.tutorials.mnist import input_data\n",
        "mnist = input_data.read_data_sets(\"MNIST_data/\")"
      ],
      "execution_count": 14,
      "outputs": [
        {
          "output_type": "stream",
          "text": [
            "Extracting MNIST_data/train-images-idx3-ubyte.gz\n",
            "Extracting MNIST_data/train-labels-idx1-ubyte.gz\n",
            "Extracting MNIST_data/t10k-images-idx3-ubyte.gz\n",
            "Extracting MNIST_data/t10k-labels-idx1-ubyte.gz\n"
          ],
          "name": "stdout"
        }
      ]
    },
    {
      "cell_type": "code",
      "metadata": {
        "id": "77xCpwirabUJ",
        "colab_type": "code",
        "colab": {
          "base_uri": "https://localhost:8080/",
          "height": 34
        },
        "outputId": "02a1725c-08ae-41bc-e4b1-91c47eb77b7d"
      },
      "source": [
        "train_X = mnist.train._images\n",
        "train_Y = mnist.train._labels\n",
        "\n",
        "test_X = mnist.test._images\n",
        "test_Y = mnist.test._labels\n",
        "\n",
        "train_X.shape"
      ],
      "execution_count": 15,
      "outputs": [
        {
          "output_type": "execute_result",
          "data": {
            "text/plain": [
              "(55000, 784)"
            ]
          },
          "metadata": {
            "tags": []
          },
          "execution_count": 15
        }
      ]
    },
    {
      "cell_type": "code",
      "metadata": {
        "id": "KF69NiZjafBo",
        "colab_type": "code",
        "colab": {}
      },
      "source": [
        "class NN:\n",
        "  def __init__(self, hidden1, hidden2, learning_rate):\n",
        "    self.X = tf.placeholder(tf.float32, (None, 784))\n",
        "    self.Y = tf.placeholder(tf.int32, (None))\n",
        "\n",
        "    forward = tf.layers.dense(self.X, hidden1)\n",
        "    activate = tf.nn.relu(forward)\n",
        "\n",
        "    forward = tf.layers.dense(activate, hidden2)\n",
        "    activate = tf.nn.relu(forward)\n",
        "\n",
        "    logits = tf.layers.dense(forward, 10)\n",
        "    self.logits = tf.nn.softmax(logits)\n",
        "\n",
        "    self.cost = tf.nn.sparse_softmax_cross_entropy_with_logits(labels = self.Y, \n",
        "                                                               logits = logits)\n",
        "    self.cost = tf.reduce_mean(self.cost)\n",
        "\n",
        "    self.optimizer = tf.train.AdamOptimizer(learning_rate).minimize(self.cost)\n",
        "\n",
        "    correct_pred = tf.equal(\n",
        "            tf.argmax(self.logits, 1, output_type = tf.int32), self.Y\n",
        "        )\n",
        "    self.accuracy = tf.reduce_mean(tf.cast(correct_pred, tf.float32))"
      ],
      "execution_count": 0,
      "outputs": []
    },
    {
      "cell_type": "code",
      "metadata": {
        "id": "ICGeZoDjafsr",
        "colab_type": "code",
        "colab": {
          "base_uri": "https://localhost:8080/",
          "height": 70
        },
        "outputId": "47efdc44-234a-474d-a27a-2617c87af24c"
      },
      "source": [
        "#tf.reset_default_graph()\n",
        "model = NN(100, 100, learning_rate = 1e-3)\n",
        "sess = tf.InteractiveSession()\n",
        "sess.run(tf.global_variables_initializer())"
      ],
      "execution_count": 17,
      "outputs": [
        {
          "output_type": "stream",
          "text": [
            "/usr/local/lib/python3.6/dist-packages/tensorflow_core/python/client/session.py:1750: UserWarning: An interactive session is already active. This can cause out-of-memory errors in some cases. You must explicitly call `InteractiveSession.close()` to release resources held by the other session(s).\n",
            "  warnings.warn('An interactive session is already active. This can '\n"
          ],
          "name": "stderr"
        }
      ]
    },
    {
      "cell_type": "code",
      "metadata": {
        "id": "d5mfue1OapFr",
        "colab_type": "code",
        "colab": {}
      },
      "source": [
        "epoch = 10\n",
        "batch_size = 128"
      ],
      "execution_count": 0,
      "outputs": []
    },
    {
      "cell_type": "code",
      "metadata": {
        "id": "x0JK1eoParLy",
        "colab_type": "code",
        "colab": {}
      },
      "source": [
        "from tqdm import tqdm\n",
        "\n",
        "train_accuracies, train_losses = [], []\n",
        "test_accuracies, test_losses = [], []\n"
      ],
      "execution_count": 0,
      "outputs": []
    },
    {
      "cell_type": "code",
      "metadata": {
        "id": "yNlTcLBqauix",
        "colab_type": "code",
        "colab": {
          "base_uri": "https://localhost:8080/",
          "height": 689
        },
        "outputId": "97eef448-7a60-4032-d874-51b2c530f64e"
      },
      "source": [
        "import numpy as np\n",
        "\n",
        "for i in range(epoch):\n",
        "\n",
        "  train_acc, train_loss = [], []\n",
        "  test_acc, test_loss = [], []\n",
        "  for k in tqdm(range(0, len(train_X), batch_size)):\n",
        "    index = min(len(train_X), k + batch_size)\n",
        "    batch_x = train_X[k: index]\n",
        "    batch_y = train_Y[k: index]\n",
        "\n",
        "    loss, acc, _ = sess.run([model.cost, model.accuracy, model.optimizer],\n",
        "                            feed_dict = {model.X: batch_x, model.Y: batch_y})\n",
        "    \n",
        "    train_loss.append(loss)\n",
        "    train_acc.append(acc)\n",
        "\n",
        "  for k in tqdm(range(0, len(test_X), batch_size)):\n",
        "    index = min(len(test_X), k + batch_size)\n",
        "    batch_x = test_X[k: index]\n",
        "    batch_y = test_Y[k: index]\n",
        "\n",
        "    loss, acc = sess.run([model.cost, model.accuracy],\n",
        "                            feed_dict = {model.X: batch_x, model.Y: batch_y})\n",
        "    \n",
        "    test_loss.append(loss)\n",
        "    test_acc.append(acc)\n",
        "  \n",
        "  train_loss = np.mean(train_loss)\n",
        "  train_acc = np.mean(train_acc)\n",
        "  test_loss = np.mean(test_loss)\n",
        "  test_acc = np.mean(test_acc)\n",
        "\n",
        "  train_accuracies.append(train_acc)\n",
        "  train_losses.append(train_loss)\n",
        "  test_accuracies.append(test_acc)\n",
        "  test_losses.append(test_loss)\n",
        "\n",
        "  print()\n",
        "  print('epoch %d, avg train acc %f, avg test acc %f'% (i, train_acc, test_acc))"
      ],
      "execution_count": 20,
      "outputs": [
        {
          "output_type": "stream",
          "text": [
            "100%|██████████| 430/430 [00:01<00:00, 382.13it/s]\n",
            "100%|██████████| 79/79 [00:00<00:00, 511.58it/s]\n",
            "  9%|▉         | 39/430 [00:00<00:01, 388.83it/s]"
          ],
          "name": "stderr"
        },
        {
          "output_type": "stream",
          "text": [
            "\n",
            "epoch 0, avg train acc 0.897413, avg test acc 0.936412\n"
          ],
          "name": "stdout"
        },
        {
          "output_type": "stream",
          "text": [
            "100%|██████████| 430/430 [00:01<00:00, 403.80it/s]\n",
            "100%|██████████| 79/79 [00:00<00:00, 578.07it/s]\n",
            " 10%|▉         | 42/430 [00:00<00:00, 419.95it/s]"
          ],
          "name": "stderr"
        },
        {
          "output_type": "stream",
          "text": [
            "\n",
            "epoch 1, avg train acc 0.952428, avg test acc 0.957773\n"
          ],
          "name": "stdout"
        },
        {
          "output_type": "stream",
          "text": [
            "100%|██████████| 430/430 [00:01<00:00, 399.08it/s]\n",
            "100%|██████████| 79/79 [00:00<00:00, 639.60it/s]\n",
            "  9%|▉         | 40/430 [00:00<00:00, 391.67it/s]"
          ],
          "name": "stderr"
        },
        {
          "output_type": "stream",
          "text": [
            "\n",
            "epoch 2, avg train acc 0.966099, avg test acc 0.961036\n"
          ],
          "name": "stdout"
        },
        {
          "output_type": "stream",
          "text": [
            "100%|██████████| 430/430 [00:01<00:00, 399.43it/s]\n",
            "100%|██████████| 79/79 [00:00<00:00, 606.32it/s]\n",
            "  8%|▊         | 34/430 [00:00<00:01, 324.27it/s]"
          ],
          "name": "stderr"
        },
        {
          "output_type": "stream",
          "text": [
            "\n",
            "epoch 3, avg train acc 0.974628, avg test acc 0.966871\n"
          ],
          "name": "stdout"
        },
        {
          "output_type": "stream",
          "text": [
            "100%|██████████| 430/430 [00:01<00:00, 382.84it/s]\n",
            "100%|██████████| 79/79 [00:00<00:00, 573.88it/s]\n",
            " 10%|▉         | 41/430 [00:00<00:00, 401.17it/s]"
          ],
          "name": "stderr"
        },
        {
          "output_type": "stream",
          "text": [
            "\n",
            "epoch 4, avg train acc 0.980642, avg test acc 0.970431\n"
          ],
          "name": "stdout"
        },
        {
          "output_type": "stream",
          "text": [
            "100%|██████████| 430/430 [00:01<00:00, 395.48it/s]\n",
            "100%|██████████| 79/79 [00:00<00:00, 584.83it/s]\n",
            "  9%|▉         | 40/430 [00:00<00:00, 391.80it/s]"
          ],
          "name": "stderr"
        },
        {
          "output_type": "stream",
          "text": [
            "\n",
            "epoch 5, avg train acc 0.985003, avg test acc 0.972805\n"
          ],
          "name": "stdout"
        },
        {
          "output_type": "stream",
          "text": [
            "100%|██████████| 430/430 [00:01<00:00, 394.11it/s]\n",
            "100%|██████████| 79/79 [00:00<00:00, 602.64it/s]\n",
            "  9%|▉         | 40/430 [00:00<00:00, 396.91it/s]"
          ],
          "name": "stderr"
        },
        {
          "output_type": "stream",
          "text": [
            "\n",
            "epoch 6, avg train acc 0.988455, avg test acc 0.970629\n"
          ],
          "name": "stdout"
        },
        {
          "output_type": "stream",
          "text": [
            "100%|██████████| 430/430 [00:01<00:00, 392.34it/s]\n",
            "100%|██████████| 79/79 [00:00<00:00, 617.61it/s]\n",
            " 10%|▉         | 42/430 [00:00<00:00, 417.99it/s]"
          ],
          "name": "stderr"
        },
        {
          "output_type": "stream",
          "text": [
            "\n",
            "epoch 7, avg train acc 0.990453, avg test acc 0.969047\n"
          ],
          "name": "stdout"
        },
        {
          "output_type": "stream",
          "text": [
            "100%|██████████| 430/430 [00:01<00:00, 402.34it/s]\n",
            "100%|██████████| 79/79 [00:00<00:00, 575.61it/s]\n",
            "  8%|▊         | 36/430 [00:00<00:01, 350.39it/s]"
          ],
          "name": "stderr"
        },
        {
          "output_type": "stream",
          "text": [
            "\n",
            "epoch 8, avg train acc 0.992761, avg test acc 0.968552\n"
          ],
          "name": "stdout"
        },
        {
          "output_type": "stream",
          "text": [
            "100%|██████████| 430/430 [00:01<00:00, 395.62it/s]\n",
            "100%|██████████| 79/79 [00:00<00:00, 595.59it/s]"
          ],
          "name": "stderr"
        },
        {
          "output_type": "stream",
          "text": [
            "\n",
            "epoch 9, avg train acc 0.993251, avg test acc 0.970332\n"
          ],
          "name": "stdout"
        },
        {
          "output_type": "stream",
          "text": [
            "\n"
          ],
          "name": "stderr"
        }
      ]
    },
    {
      "cell_type": "code",
      "metadata": {
        "id": "fx8CtIJ_ayHS",
        "colab_type": "code",
        "colab": {
          "base_uri": "https://localhost:8080/",
          "height": 265
        },
        "outputId": "bf188fdf-31fa-4e32-8156-1d3db4bdf742"
      },
      "source": [
        "import matplotlib.pyplot as plt\n",
        "\n",
        "plt.plot(train_accuracies, label = 'train acc')\n",
        "plt.plot(test_accuracies, label = 'test acc')\n",
        "plt.legend()\n",
        "plt.show()"
      ],
      "execution_count": 21,
      "outputs": [
        {
          "output_type": "display_data",
          "data": {
            "image/png": "[encoded data removed]",
            "text/plain": [
              "<Figure size 432x288 with 1 Axes>"
            ]
          },
          "metadata": {
            "tags": []
          }
        }
      ]
    }
  ]
}