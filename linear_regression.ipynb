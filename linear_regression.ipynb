{
  "nbformat": 4,
  "nbformat_minor": 0,
  "metadata": {
    "colab": {
      "name": "linear-regression.ipynb",
      "provenance": [],
      "include_colab_link": true
    },
    "kernelspec": {
      "name": "python3",
      "display_name": "Python 3"
    }
  },
  "cells": [
    {
      "cell_type": "markdown",
      "metadata": {
        "id": "view-in-github",
        "colab_type": "text"
      },
      "source": [
        "<a href=\"https://colab.research.google.com/github/shoulhafiz/python_data_science/blob/master/linear_regression.ipynb\" target=\"_parent\"><img src=\"https://colab.research.google.com/assets/colab-badge.svg\" alt=\"Open In Colab\"/></a>"
      ]
    },
    {
      "cell_type": "code",
      "metadata": {
        "id": "N4mLr2r3ptOB",
        "colab_type": "code",
        "colab": {
          "base_uri": "https://localhost:8080/",
          "height": 202
        },
        "outputId": "1d402c5a-50b5-4e88-c484-d134a4bf018e"
      },
      "source": [
        "import numpy as np\n",
        "import pandas as pd\n",
        "\n",
        "!wget https://malaya-dataset.s3-ap-southeast-1.amazonaws.com/tutorial/cars_small.csv"
      ],
      "execution_count": 1,
      "outputs": [
        {
          "output_type": "stream",
          "text": [
            "--2019-11-05 08:21:41--  https://malaya-dataset.s3-ap-southeast-1.amazonaws.com/tutorial/cars_small.csv\n",
            "Resolving malaya-dataset.s3-ap-southeast-1.amazonaws.com (malaya-dataset.s3-ap-southeast-1.amazonaws.com)... 52.219.36.47\n",
            "Connecting to malaya-dataset.s3-ap-southeast-1.amazonaws.com (malaya-dataset.s3-ap-southeast-1.amazonaws.com)|52.219.36.47|:443... connected.\n",
            "HTTP request sent, awaiting response... 200 OK\n",
            "Length: 1497 (1.5K) [text/csv]\n",
            "Saving to: ‘cars_small.csv’\n",
            "\n",
            "cars_small.csv      100%[===================>]   1.46K  --.-KB/s    in 0s      \n",
            "\n",
            "2019-11-05 08:21:42 (57.5 MB/s) - ‘cars_small.csv’ saved [1497/1497]\n",
            "\n"
          ],
          "name": "stdout"
        }
      ]
    },
    {
      "cell_type": "code",
      "metadata": {
        "id": "VTJQq1RcqO79",
        "colab_type": "code",
        "colab": {
          "base_uri": "https://localhost:8080/",
          "height": 195
        },
        "outputId": "2091d5a4-e16c-467c-ff38-6147cf35645a"
      },
      "source": [
        "df = pd.read_csv('cars_small.csv')\n",
        "df.head()"
      ],
      "execution_count": 4,
      "outputs": [
        {
          "output_type": "execute_result",
          "data": {
            "text/html": [
              "<div>\n",
              "<style scoped>\n",
              "    .dataframe tbody tr th:only-of-type {\n",
              "        vertical-align: middle;\n",
              "    }\n",
              "\n",
              "    .dataframe tbody tr th {\n",
              "        vertical-align: top;\n",
              "    }\n",
              "\n",
              "    .dataframe thead th {\n",
              "        text-align: right;\n",
              "    }\n",
              "</style>\n",
              "<table border=\"1\" class=\"dataframe\">\n",
              "  <thead>\n",
              "    <tr style=\"text-align: right;\">\n",
              "      <th></th>\n",
              "      <th>brand</th>\n",
              "      <th>model</th>\n",
              "      <th>price</th>\n",
              "      <th>kmpl</th>\n",
              "      <th>bhp</th>\n",
              "      <th>type</th>\n",
              "    </tr>\n",
              "  </thead>\n",
              "  <tbody>\n",
              "    <tr>\n",
              "      <th>0</th>\n",
              "      <td>Chevrolet</td>\n",
              "      <td>Beat</td>\n",
              "      <td>421</td>\n",
              "      <td>18.6</td>\n",
              "      <td>79</td>\n",
              "      <td>Hatchback</td>\n",
              "    </tr>\n",
              "    <tr>\n",
              "      <th>1</th>\n",
              "      <td>Chevrolet</td>\n",
              "      <td>Sail</td>\n",
              "      <td>551</td>\n",
              "      <td>18.2</td>\n",
              "      <td>82</td>\n",
              "      <td>Sedan</td>\n",
              "    </tr>\n",
              "    <tr>\n",
              "      <th>2</th>\n",
              "      <td>Chevrolet</td>\n",
              "      <td>Sail Hatchback</td>\n",
              "      <td>468</td>\n",
              "      <td>18.2</td>\n",
              "      <td>82</td>\n",
              "      <td>Hatchback</td>\n",
              "    </tr>\n",
              "    <tr>\n",
              "      <th>3</th>\n",
              "      <td>Chevrolet</td>\n",
              "      <td>Spark</td>\n",
              "      <td>345</td>\n",
              "      <td>16.2</td>\n",
              "      <td>62</td>\n",
              "      <td>Hatchback</td>\n",
              "    </tr>\n",
              "    <tr>\n",
              "      <th>4</th>\n",
              "      <td>Fiat</td>\n",
              "      <td>Linea Classic</td>\n",
              "      <td>612</td>\n",
              "      <td>14.9</td>\n",
              "      <td>89</td>\n",
              "      <td>Sedan</td>\n",
              "    </tr>\n",
              "  </tbody>\n",
              "</table>\n",
              "</div>"
            ],
            "text/plain": [
              "       brand           model  price  kmpl  bhp       type\n",
              "0  Chevrolet            Beat    421  18.6   79  Hatchback\n",
              "1  Chevrolet            Sail    551  18.2   82      Sedan\n",
              "2  Chevrolet  Sail Hatchback    468  18.2   82  Hatchback\n",
              "3  Chevrolet           Spark    345  16.2   62  Hatchback\n",
              "4       Fiat   Linea Classic    612  14.9   89      Sedan"
            ]
          },
          "metadata": {
            "tags": []
          },
          "execution_count": 4
        }
      ]
    },
    {
      "cell_type": "code",
      "metadata": {
        "id": "FdbcHb_drGd-",
        "colab_type": "code",
        "colab": {
          "base_uri": "https://localhost:8080/",
          "height": 254
        },
        "outputId": "67b49cc9-884d-4196-ba59-a3c7c27c1f42"
      },
      "source": [
        "# https://scikit-learn.org/stable/modules/generated/sklearn.linear_model.LinearRegression.html\n",
        "# sklearn.linear_model.LinearRegression\n",
        "# sklearn.linear_model.ridge_regression\n",
        "\n",
        "samples = df.iloc[[0,4,3,13,23,33,41]]\n",
        "samples"
      ],
      "execution_count": 5,
      "outputs": [
        {
          "output_type": "execute_result",
          "data": {
            "text/html": [
              "<div>\n",
              "<style scoped>\n",
              "    .dataframe tbody tr th:only-of-type {\n",
              "        vertical-align: middle;\n",
              "    }\n",
              "\n",
              "    .dataframe tbody tr th {\n",
              "        vertical-align: top;\n",
              "    }\n",
              "\n",
              "    .dataframe thead th {\n",
              "        text-align: right;\n",
              "    }\n",
              "</style>\n",
              "<table border=\"1\" class=\"dataframe\">\n",
              "  <thead>\n",
              "    <tr style=\"text-align: right;\">\n",
              "      <th></th>\n",
              "      <th>brand</th>\n",
              "      <th>model</th>\n",
              "      <th>price</th>\n",
              "      <th>kmpl</th>\n",
              "      <th>bhp</th>\n",
              "      <th>type</th>\n",
              "    </tr>\n",
              "  </thead>\n",
              "  <tbody>\n",
              "    <tr>\n",
              "      <th>0</th>\n",
              "      <td>Chevrolet</td>\n",
              "      <td>Beat</td>\n",
              "      <td>421</td>\n",
              "      <td>18.6</td>\n",
              "      <td>79</td>\n",
              "      <td>Hatchback</td>\n",
              "    </tr>\n",
              "    <tr>\n",
              "      <th>4</th>\n",
              "      <td>Fiat</td>\n",
              "      <td>Linea Classic</td>\n",
              "      <td>612</td>\n",
              "      <td>14.9</td>\n",
              "      <td>89</td>\n",
              "      <td>Sedan</td>\n",
              "    </tr>\n",
              "    <tr>\n",
              "      <th>3</th>\n",
              "      <td>Chevrolet</td>\n",
              "      <td>Spark</td>\n",
              "      <td>345</td>\n",
              "      <td>16.2</td>\n",
              "      <td>62</td>\n",
              "      <td>Hatchback</td>\n",
              "    </tr>\n",
              "    <tr>\n",
              "      <th>13</th>\n",
              "      <td>Hyundai</td>\n",
              "      <td>i20</td>\n",
              "      <td>523</td>\n",
              "      <td>18.6</td>\n",
              "      <td>82</td>\n",
              "      <td>Hatchback</td>\n",
              "    </tr>\n",
              "    <tr>\n",
              "      <th>23</th>\n",
              "      <td>Suzuki</td>\n",
              "      <td>Swift DZire</td>\n",
              "      <td>508</td>\n",
              "      <td>19.1</td>\n",
              "      <td>86</td>\n",
              "      <td>Sedan</td>\n",
              "    </tr>\n",
              "    <tr>\n",
              "      <th>33</th>\n",
              "      <td>Skoda</td>\n",
              "      <td>Rapid</td>\n",
              "      <td>756</td>\n",
              "      <td>15.0</td>\n",
              "      <td>104</td>\n",
              "      <td>Sedan</td>\n",
              "    </tr>\n",
              "    <tr>\n",
              "      <th>41</th>\n",
              "      <td>Volkswagen</td>\n",
              "      <td>Vento</td>\n",
              "      <td>785</td>\n",
              "      <td>16.1</td>\n",
              "      <td>104</td>\n",
              "      <td>Sedan</td>\n",
              "    </tr>\n",
              "  </tbody>\n",
              "</table>\n",
              "</div>"
            ],
            "text/plain": [
              "         brand          model  price  kmpl  bhp       type\n",
              "0    Chevrolet           Beat    421  18.6   79  Hatchback\n",
              "4         Fiat  Linea Classic    612  14.9   89      Sedan\n",
              "3    Chevrolet          Spark    345  16.2   62  Hatchback\n",
              "13     Hyundai            i20    523  18.6   82  Hatchback\n",
              "23      Suzuki    Swift DZire    508  19.1   86      Sedan\n",
              "33       Skoda          Rapid    756  15.0  104      Sedan\n",
              "41  Volkswagen          Vento    785  16.1  104      Sedan"
            ]
          },
          "metadata": {
            "tags": []
          },
          "execution_count": 5
        }
      ]
    },
    {
      "cell_type": "code",
      "metadata": {
        "id": "lo5cNSWJrIBy",
        "colab_type": "code",
        "colab": {
          "base_uri": "https://localhost:8080/",
          "height": 67
        },
        "outputId": "f9606f86-b371-4d43-e630-6603560d5e6f"
      },
      "source": [
        "from sklearn.linear_model import LinearRegression\n",
        "\n",
        "X = df['kmpl'].values\n",
        "X = np.reshape(X, (-1, 1))\n",
        "X_samples = samples['kmpl'].values\n",
        "X_samples = np.reshape(X_samples, (-1, 1))\n",
        "print(X.shape), print(X_samples.shape)\n"
      ],
      "execution_count": 8,
      "outputs": [
        {
          "output_type": "stream",
          "text": [
            "(42, 1)\n",
            "(7, 1)\n"
          ],
          "name": "stdout"
        },
        {
          "output_type": "execute_result",
          "data": {
            "text/plain": [
              "(None, None)"
            ]
          },
          "metadata": {
            "tags": []
          },
          "execution_count": 8
        }
      ]
    },
    {
      "cell_type": "code",
      "metadata": {
        "id": "MnlZPGFvsKJN",
        "colab_type": "code",
        "colab": {}
      },
      "source": [
        "linear_pop = LinearRegression().fit(X, df['price'])\n",
        "linear_samples = LinearRegression().fit(X_samples, samples['price'])"
      ],
      "execution_count": 0,
      "outputs": []
    },
    {
      "cell_type": "code",
      "metadata": {
        "id": "q-kMMN93sNuw",
        "colab_type": "code",
        "colab": {
          "base_uri": "https://localhost:8080/",
          "height": 265
        },
        "outputId": "11b389b6-3c17-41e8-a199-32d025ec087a"
      },
      "source": [
        "import matplotlib.pyplot as plt\n",
        "\n",
        "plt.scatter(df['kmpl'], df['price'], label = 'population')\n",
        "plt.scatter(samples['kmpl'], samples['price'], label = 'sample')\n",
        "plt.legend()\n",
        "plt.show()"
      ],
      "execution_count": 10,
      "outputs": [
        {
          "output_type": "display_data",
          "data": {
            "image/png": "[encoded data removed]",
            "text/plain": [
              "<Figure size 432x288 with 1 Axes>"
            ]
          },
          "metadata": {
            "tags": []
          }
        }
      ]
    },
    {
      "cell_type": "code",
      "metadata": {
        "id": "fKmMeA00sTXu",
        "colab_type": "code",
        "colab": {}
      },
      "source": [
        "x = np.arange(df['kmpl'].min(), df['kmpl'].max())\n",
        "x = np.expand_dims(x, axis = 1)\n"
      ],
      "execution_count": 0,
      "outputs": []
    },
    {
      "cell_type": "code",
      "metadata": {
        "id": "rV3HsWp8sXOg",
        "colab_type": "code",
        "colab": {}
      },
      "source": [
        "yhat_pop = linear_pop.predict(x)\n",
        "yhat_samples = linear_samples.predict(x)"
      ],
      "execution_count": 0,
      "outputs": []
    },
    {
      "cell_type": "code",
      "metadata": {
        "id": "HzwtISQGsblp",
        "colab_type": "code",
        "colab": {
          "base_uri": "https://localhost:8080/",
          "height": 265
        },
        "outputId": "29f9720e-2bc1-424c-8567-be5220110e56"
      },
      "source": [
        "plt.scatter(df['kmpl'], df['price'], label = 'population')\n",
        "plt.scatter(samples['kmpl'], samples['price'], label = 'sample')\n",
        "plt.plot(x[:,0], yhat_pop, label = 'linear population')\n",
        "plt.plot(x[:,0], yhat_samples, label = 'linear samples')\n",
        "plt.legend()\n",
        "plt.show()\n",
        "\n"
      ],
      "execution_count": 13,
      "outputs": [
        {
          "output_type": "display_data",
          "data": {
            "image/png": "[encoded data removed]",
            "text/plain": [
              "<Figure size 432x288 with 1 Axes>"
            ]
          },
          "metadata": {
            "tags": []
          }
        }
      ]
    },
    {
      "cell_type": "code",
      "metadata": {
        "id": "Bm-oeQIBuVJ_",
        "colab_type": "code",
        "colab": {}
      },
      "source": [
        "# https://scikit-learn.org/stable/modules/generated/sklearn.linear_model.ridge_regression.html#sklearn.linear_model.ridge_regression\n"
      ],
      "execution_count": 0,
      "outputs": []
    }
  ]
}