{
  "nbformat": 4,
  "nbformat_minor": 0,
  "metadata": {
    "colab": {
      "name": "linear-regression-ols.ipynb",
      "provenance": [],
      "include_colab_link": true
    },
    "kernelspec": {
      "name": "python3",
      "display_name": "Python 3"
    }
  },
  "cells": [
    {
      "cell_type": "markdown",
      "metadata": {
        "id": "view-in-github",
        "colab_type": "text"
      },
      "source": [
        "<a href=\"https://colab.research.google.com/github/shoulhafiz/python_data_science/blob/master/linear_regression_ols.ipynb\" target=\"_parent\"><img src=\"https://colab.research.google.com/assets/colab-badge.svg\" alt=\"Open In Colab\"/></a>"
      ]
    },
    {
      "cell_type": "code",
      "metadata": {
        "id": "6-NtjUdwT3PC",
        "colab_type": "code",
        "colab": {
          "base_uri": "https://localhost:8080/",
          "height": 202
        },
        "outputId": "fe0fa196-4c48-47a1-db13-fb558c23f6ae"
      },
      "source": [
        "import numpy as np\n",
        "import pandas as pd\n",
        "\n",
        "!wget https://malaya-dataset.s3-ap-southeast-1.amazonaws.com/tutorial/cars_small.csv"
      ],
      "execution_count": 1,
      "outputs": [
        {
          "output_type": "stream",
          "text": [
            "--2019-11-05 06:46:26--  https://malaya-dataset.s3-ap-southeast-1.amazonaws.com/tutorial/cars_small.csv\n",
            "Resolving malaya-dataset.s3-ap-southeast-1.amazonaws.com (malaya-dataset.s3-ap-southeast-1.amazonaws.com)... 52.219.32.231\n",
            "Connecting to malaya-dataset.s3-ap-southeast-1.amazonaws.com (malaya-dataset.s3-ap-southeast-1.amazonaws.com)|52.219.32.231|:443... connected.\n",
            "HTTP request sent, awaiting response... 200 OK\n",
            "Length: 1497 (1.5K) [text/csv]\n",
            "Saving to: ‘cars_small.csv’\n",
            "\n",
            "cars_small.csv      100%[===================>]   1.46K  --.-KB/s    in 0s      \n",
            "\n",
            "2019-11-05 06:46:26 (64.0 MB/s) - ‘cars_small.csv’ saved [1497/1497]\n",
            "\n"
          ],
          "name": "stdout"
        }
      ]
    },
    {
      "cell_type": "code",
      "metadata": {
        "id": "P1NnAxAuUQJ7",
        "colab_type": "code",
        "colab": {}
      },
      "source": [
        "df = pd.read_csv('cars_small.csv')"
      ],
      "execution_count": 0,
      "outputs": []
    },
    {
      "cell_type": "code",
      "metadata": {
        "id": "m-jcmEP4Um2b",
        "colab_type": "code",
        "colab": {
          "base_uri": "https://localhost:8080/",
          "height": 195
        },
        "outputId": "1c63ed5a-c5f1-46e9-f963-f6094f750073"
      },
      "source": [
        "df.head(\n",
        "\n",
        ")"
      ],
      "execution_count": 3,
      "outputs": [
        {
          "output_type": "execute_result",
          "data": {
            "text/html": [
              "<div>\n",
              "<style scoped>\n",
              "    .dataframe tbody tr th:only-of-type {\n",
              "        vertical-align: middle;\n",
              "    }\n",
              "\n",
              "    .dataframe tbody tr th {\n",
              "        vertical-align: top;\n",
              "    }\n",
              "\n",
              "    .dataframe thead th {\n",
              "        text-align: right;\n",
              "    }\n",
              "</style>\n",
              "<table border=\"1\" class=\"dataframe\">\n",
              "  <thead>\n",
              "    <tr style=\"text-align: right;\">\n",
              "      <th></th>\n",
              "      <th>brand</th>\n",
              "      <th>model</th>\n",
              "      <th>price</th>\n",
              "      <th>kmpl</th>\n",
              "      <th>bhp</th>\n",
              "      <th>type</th>\n",
              "    </tr>\n",
              "  </thead>\n",
              "  <tbody>\n",
              "    <tr>\n",
              "      <th>0</th>\n",
              "      <td>Chevrolet</td>\n",
              "      <td>Beat</td>\n",
              "      <td>421</td>\n",
              "      <td>18.6</td>\n",
              "      <td>79</td>\n",
              "      <td>Hatchback</td>\n",
              "    </tr>\n",
              "    <tr>\n",
              "      <th>1</th>\n",
              "      <td>Chevrolet</td>\n",
              "      <td>Sail</td>\n",
              "      <td>551</td>\n",
              "      <td>18.2</td>\n",
              "      <td>82</td>\n",
              "      <td>Sedan</td>\n",
              "    </tr>\n",
              "    <tr>\n",
              "      <th>2</th>\n",
              "      <td>Chevrolet</td>\n",
              "      <td>Sail Hatchback</td>\n",
              "      <td>468</td>\n",
              "      <td>18.2</td>\n",
              "      <td>82</td>\n",
              "      <td>Hatchback</td>\n",
              "    </tr>\n",
              "    <tr>\n",
              "      <th>3</th>\n",
              "      <td>Chevrolet</td>\n",
              "      <td>Spark</td>\n",
              "      <td>345</td>\n",
              "      <td>16.2</td>\n",
              "      <td>62</td>\n",
              "      <td>Hatchback</td>\n",
              "    </tr>\n",
              "    <tr>\n",
              "      <th>4</th>\n",
              "      <td>Fiat</td>\n",
              "      <td>Linea Classic</td>\n",
              "      <td>612</td>\n",
              "      <td>14.9</td>\n",
              "      <td>89</td>\n",
              "      <td>Sedan</td>\n",
              "    </tr>\n",
              "  </tbody>\n",
              "</table>\n",
              "</div>"
            ],
            "text/plain": [
              "       brand           model  price  kmpl  bhp       type\n",
              "0  Chevrolet            Beat    421  18.6   79  Hatchback\n",
              "1  Chevrolet            Sail    551  18.2   82      Sedan\n",
              "2  Chevrolet  Sail Hatchback    468  18.2   82  Hatchback\n",
              "3  Chevrolet           Spark    345  16.2   62  Hatchback\n",
              "4       Fiat   Linea Classic    612  14.9   89      Sedan"
            ]
          },
          "metadata": {
            "tags": []
          },
          "execution_count": 3
        }
      ]
    },
    {
      "cell_type": "code",
      "metadata": {
        "id": "XaxNdQkxUs_D",
        "colab_type": "code",
        "colab": {
          "base_uri": "https://localhost:8080/",
          "height": 284
        },
        "outputId": "501c2ed6-bb32-4ab8-d38c-91c23d2af5c7"
      },
      "source": [
        "df.describe()"
      ],
      "execution_count": 4,
      "outputs": [
        {
          "output_type": "execute_result",
          "data": {
            "text/html": [
              "<div>\n",
              "<style scoped>\n",
              "    .dataframe tbody tr th:only-of-type {\n",
              "        vertical-align: middle;\n",
              "    }\n",
              "\n",
              "    .dataframe tbody tr th {\n",
              "        vertical-align: top;\n",
              "    }\n",
              "\n",
              "    .dataframe thead th {\n",
              "        text-align: right;\n",
              "    }\n",
              "</style>\n",
              "<table border=\"1\" class=\"dataframe\">\n",
              "  <thead>\n",
              "    <tr style=\"text-align: right;\">\n",
              "      <th></th>\n",
              "      <th>price</th>\n",
              "      <th>kmpl</th>\n",
              "      <th>bhp</th>\n",
              "    </tr>\n",
              "  </thead>\n",
              "  <tbody>\n",
              "    <tr>\n",
              "      <th>count</th>\n",
              "      <td>42.000000</td>\n",
              "      <td>42.000000</td>\n",
              "      <td>42.000000</td>\n",
              "    </tr>\n",
              "    <tr>\n",
              "      <th>mean</th>\n",
              "      <td>497.309524</td>\n",
              "      <td>18.283333</td>\n",
              "      <td>79.238095</td>\n",
              "    </tr>\n",
              "    <tr>\n",
              "      <th>std</th>\n",
              "      <td>147.469797</td>\n",
              "      <td>2.532512</td>\n",
              "      <td>16.374891</td>\n",
              "    </tr>\n",
              "    <tr>\n",
              "      <th>min</th>\n",
              "      <td>199.000000</td>\n",
              "      <td>14.000000</td>\n",
              "      <td>38.000000</td>\n",
              "    </tr>\n",
              "    <tr>\n",
              "      <th>25%</th>\n",
              "      <td>413.250000</td>\n",
              "      <td>16.425000</td>\n",
              "      <td>67.000000</td>\n",
              "    </tr>\n",
              "    <tr>\n",
              "      <th>50%</th>\n",
              "      <td>497.500000</td>\n",
              "      <td>18.100000</td>\n",
              "      <td>80.500000</td>\n",
              "    </tr>\n",
              "    <tr>\n",
              "      <th>75%</th>\n",
              "      <td>584.000000</td>\n",
              "      <td>19.725000</td>\n",
              "      <td>89.000000</td>\n",
              "    </tr>\n",
              "    <tr>\n",
              "      <th>max</th>\n",
              "      <td>785.000000</td>\n",
              "      <td>24.100000</td>\n",
              "      <td>112.000000</td>\n",
              "    </tr>\n",
              "  </tbody>\n",
              "</table>\n",
              "</div>"
            ],
            "text/plain": [
              "            price       kmpl         bhp\n",
              "count   42.000000  42.000000   42.000000\n",
              "mean   497.309524  18.283333   79.238095\n",
              "std    147.469797   2.532512   16.374891\n",
              "min    199.000000  14.000000   38.000000\n",
              "25%    413.250000  16.425000   67.000000\n",
              "50%    497.500000  18.100000   80.500000\n",
              "75%    584.000000  19.725000   89.000000\n",
              "max    785.000000  24.100000  112.000000"
            ]
          },
          "metadata": {
            "tags": []
          },
          "execution_count": 4
        }
      ]
    },
    {
      "cell_type": "code",
      "metadata": {
        "id": "ca1AL4QdU-C_",
        "colab_type": "code",
        "colab": {
          "base_uri": "https://localhost:8080/",
          "height": 388
        },
        "outputId": "9db142f4-4a30-48bb-db05-fd7caf566b84"
      },
      "source": [
        "import matplotlib.pyplot as plt\n",
        "\n",
        "X = df['kmpl']\n",
        "Y= df['price']\n",
        "\n",
        "plt.figure(figsize = (10, 6))\n",
        "plt.scatter(X, Y)\n",
        "plt.xlabel('KM per Liter')\n",
        "plt.ylabel('Price')\n",
        "plt.show()"
      ],
      "execution_count": 9,
      "outputs": [
        {
          "output_type": "display_data",
          "data": {
            "image/png": "[encoded data removed]",
            "text/plain": [
              "<Figure size 720x432 with 1 Axes>"
            ]
          },
          "metadata": {
            "tags": []
          }
        }
      ]
    },
    {
      "cell_type": "code",
      "metadata": {
        "id": "naPNRo16WHwl",
        "colab_type": "code",
        "colab": {}
      },
      "source": [
        "x_mean = X.mean()\n",
        "y_mean = Y.mean()\n",
        "\n",
        "cov = ((X - X.mean()) * (Y - Y.mean())).sum()\n",
        "denominator = ((X - X.mean()) ** 2).sum()"
      ],
      "execution_count": 0,
      "outputs": []
    },
    {
      "cell_type": "code",
      "metadata": {
        "id": "anf-Gg0MXhmP",
        "colab_type": "code",
        "colab": {
          "base_uri": "https://localhost:8080/",
          "height": 34
        },
        "outputId": "51bc2425-1f69-41b5-d4af-1ebf9afe108c"
      },
      "source": [
        "m = cov / denominator\n",
        "c = Y.mean() - m * X.mean()\n",
        "m, c"
      ],
      "execution_count": 11,
      "outputs": [
        {
          "output_type": "execute_result",
          "data": {
            "text/plain": [
              "(-36.126192362541595, 1157.8167408379927)"
            ]
          },
          "metadata": {
            "tags": []
          },
          "execution_count": 11
        }
      ]
    },
    {
      "cell_type": "code",
      "metadata": {
        "id": "Zgenl0IqXlKp",
        "colab_type": "code",
        "colab": {
          "base_uri": "https://localhost:8080/",
          "height": 50
        },
        "outputId": "845a7cc9-63e6-42a5-9c98-bdd00a1f06ad"
      },
      "source": [
        "x = np.arange(X.min(), X.max() + 10)\n",
        "print(x)\n",
        "y_hat = m * x + c"
      ],
      "execution_count": 12,
      "outputs": [
        {
          "output_type": "stream",
          "text": [
            "[14. 15. 16. 17. 18. 19. 20. 21. 22. 23. 24. 25. 26. 27. 28. 29. 30. 31.\n",
            " 32. 33. 34.]\n"
          ],
          "name": "stdout"
        }
      ]
    },
    {
      "cell_type": "code",
      "metadata": {
        "id": "2PiShnk3XqPP",
        "colab_type": "code",
        "colab": {
          "base_uri": "https://localhost:8080/",
          "height": 284
        },
        "outputId": "2322c680-9d52-47f5-858d-3e98ddee565a"
      },
      "source": [
        "plt.scatter(X, Y)\n",
        "plt.plot(x, y_hat)\n",
        "plt.xlabel('km per liter', fontsize = 15)\n",
        "plt.ylabel('price', fontsize = 15)\n",
        "plt.show()"
      ],
      "execution_count": 13,
      "outputs": [
        {
          "output_type": "display_data",
          "data": {
            "image/png": "[encoded data removed]",
            "text/plain": [
              "<Figure size 432x288 with 1 Axes>"
            ]
          },
          "metadata": {
            "tags": []
          }
        }
      ]
    }
  ]
}