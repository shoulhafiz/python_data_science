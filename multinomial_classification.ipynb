{
  "nbformat": 4,
  "nbformat_minor": 0,
  "metadata": {
    "colab": {
      "name": "multinomial-classification.ipynb",
      "provenance": [],
      "include_colab_link": true
    },
    "kernelspec": {
      "name": "python3",
      "display_name": "Python 3"
    }
  },
  "cells": [
    {
      "cell_type": "markdown",
      "metadata": {
        "id": "view-in-github",
        "colab_type": "text"
      },
      "source": [
        "<a href=\"https://colab.research.google.com/github/shoulhafiz/python_data_science/blob/master/multinomial_classification.ipynb\" target=\"_parent\"><img src=\"https://colab.research.google.com/assets/colab-badge.svg\" alt=\"Open In Colab\"/></a>"
      ]
    },
    {
      "cell_type": "code",
      "metadata": {
        "id": "cbnCO3nIlcxh",
        "colab_type": "code",
        "colab": {
          "base_uri": "https://localhost:8080/",
          "height": 202
        },
        "outputId": "651313a0-fedd-40e4-f0f4-92432811e71d"
      },
      "source": [
        "!wget https://raw.githubusercontent.com/huseinzol05/Malaya-Dataset/master/political-landscape/political-landscape.json"
      ],
      "execution_count": 2,
      "outputs": [
        {
          "output_type": "stream",
          "text": [
            "--2019-11-05 03:25:31--  https://raw.githubusercontent.com/huseinzol05/Malaya-Dataset/master/political-landscape/political-landscape.json\n",
            "Resolving raw.githubusercontent.com (raw.githubusercontent.com)... 151.101.0.133, 151.101.64.133, 151.101.128.133, ...\n",
            "Connecting to raw.githubusercontent.com (raw.githubusercontent.com)|151.101.0.133|:443... connected.\n",
            "HTTP request sent, awaiting response... 200 OK\n",
            "Length: 2020656 (1.9M) [text/plain]\n",
            "Saving to: ‘political-landscape.json’\n",
            "\n",
            "\rpolitical-landscape   0%[                    ]       0  --.-KB/s               \rpolitical-landscape 100%[===================>]   1.93M  --.-KB/s    in 0.06s   \n",
            "\n",
            "2019-11-05 03:25:31 (32.7 MB/s) - ‘political-landscape.json’ saved [2020656/2020656]\n",
            "\n"
          ],
          "name": "stdout"
        }
      ]
    },
    {
      "cell_type": "code",
      "metadata": {
        "id": "YADdlTQtmKT0",
        "colab_type": "code",
        "colab": {}
      },
      "source": [
        "import json\n",
        "\n",
        "with open('political-landscape.json') as fopen:\n",
        "  politics = json.load(fopen)"
      ],
      "execution_count": 0,
      "outputs": []
    },
    {
      "cell_type": "code",
      "metadata": {
        "id": "eEPDjmgWmSFo",
        "colab_type": "code",
        "colab": {
          "base_uri": "https://localhost:8080/",
          "height": 34
        },
        "outputId": "21f040d0-e9f8-4ba4-db2d-eef5c566a773"
      },
      "source": [
        "politics.keys()"
      ],
      "execution_count": 4,
      "outputs": [
        {
          "output_type": "execute_result",
          "data": {
            "text/plain": [
              "dict_keys(['kerajaan', 'pembangkang'])"
            ]
          },
          "metadata": {
            "tags": []
          },
          "execution_count": 4
        }
      ]
    },
    {
      "cell_type": "code",
      "metadata": {
        "id": "UyIj3Y3smZ_X",
        "colab_type": "code",
        "colab": {
          "base_uri": "https://localhost:8080/",
          "height": 185
        },
        "outputId": "6e4d93da-abd5-4bc6-e65f-3e20744acd2d"
      },
      "source": [
        "politics['kerajaan'][:10]"
      ],
      "execution_count": 5,
      "outputs": [
        {
          "output_type": "execute_result",
          "data": {
            "text/plain": [
              "['Di Aloq Staq tadi kayuh gerek 3km, tapi makan tgh hari pekena ikan pekasam, gulai, daging bakar, tapai pulut Balik kena kayuh lebih lagi ni',\n",
              " 'Kayuh gerek pagi tadi bersama orang muda Gen Y Kedah di Dataran Menara Alor Setar Orang Kedah memang sempoi',\n",
              " 'Apa habaq org Kedah? Alhamdulillah, sy kini di Alor Star utk lawatan ke negeri Jelapang Padi, bermula dgn prtemuan brsm kpimpinan UMNO Kedah',\n",
              " 'Saya berbesar hati merasmikan Medan Selera Lundu Ini merupakan projek yang dekat di hati Tok Nan yang sentiasa peka denyutan nadi Sarawak',\n",
              " 'Salam Jumaat Khatib tadi mengingatkan bhw hubungan yg baik antara rakyat pemimpin penting utk mewujudkan negara yg sejahteraInsyaAllah',\n",
              " 'Anasir2 negatif dlm dan luar negara boleh terus menghasut namun mrk tidak mampu menafikan kejayaan2 negaraku ini',\n",
              " 'Salah satu pemandangan kegemaran saya di Sarawak Selamat pagi Hari ini saya akan ke Lundu pula untuk program bersama rakyat See you there',\n",
              " 'Inilah semangat 1Malaysia yang sebenar di mana kita meraikan kepelbagaian msykt kita bkn hanya bersikap toleransi antara satu sama lain',\n",
              " 'Trm ksh Adrian Ng rakan2 atas sambutan di SJK ChungHua No 4 Tersenyum saya lihat kegembiraan mrk Moga bangunan baru dpt beri keselesaan',\n",
              " 'Saya diingatkan td oleh kepimpinan Sarawak bhw ini adalah lawatan saya yg ke52 Dgn kerjasama erat, kita dpt pastikan Srwk terus membangun']"
            ]
          },
          "metadata": {
            "tags": []
          },
          "execution_count": 5
        }
      ]
    },
    {
      "cell_type": "code",
      "metadata": {
        "id": "cKvopvV5mdce",
        "colab_type": "code",
        "colab": {
          "base_uri": "https://localhost:8080/",
          "height": 185
        },
        "outputId": "89cec61a-97e0-435e-9b36-b7bc713364f2"
      },
      "source": [
        "politics['pembangkang'][:10]"
      ],
      "execution_count": 6,
      "outputs": [
        {
          "output_type": "execute_result",
          "data": {
            "text/plain": [
              "['Kit Siang: Criticism of TV3 journalist is valid Mkini',\n",
              " 'Pua: I hope Salleh is just feigning ignorance on 1MDB Mkini',\n",
              " 'Three tutors can school Salleh on govt scandals, says Kit Siang Mkini',\n",
              " 'Kalau benar antiIslam, sudah lama DAP diharamkan bawah Akta Pertubuhan Persatuan Roketkini',\n",
              " 'Look east to Sabah, Sarawak, DAP tells opposition parties V Anbalagan FMT',\n",
              " 'Guan Eng challenges Ku Nan to TV debate on Penang FT Susan Loone Mkini',\n",
              " 'Hafiz Yatim Mkini',\n",
              " 'Minister: BMF scandal bigger than 1MDB Mkini',\n",
              " 'PAS arithmetic not right, Dr M responds to quit pact proposal Alyaa Azhar Mkini',\n",
              " 'Kit Siang hopes Zaid will be team player, not prima donna Zikri Kamarulzaman Mkini']"
            ]
          },
          "metadata": {
            "tags": []
          },
          "execution_count": 6
        }
      ]
    },
    {
      "cell_type": "code",
      "metadata": {
        "id": "phOoB3SsnHJt",
        "colab_type": "code",
        "colab": {
          "base_uri": "https://localhost:8080/",
          "height": 202
        },
        "outputId": "710a9997-7197-4d30-a561-1367abf79abb"
      },
      "source": [
        "!wget https://raw.githubusercontent.com/huseinzol05/Malaya-Dataset/master/emotion/love-twitter-malaysia.json"
      ],
      "execution_count": 7,
      "outputs": [
        {
          "output_type": "stream",
          "text": [
            "--2019-11-05 03:33:56--  https://raw.githubusercontent.com/huseinzol05/Malaya-Dataset/master/emotion/love-twitter-malaysia.json\n",
            "Resolving raw.githubusercontent.com (raw.githubusercontent.com)... 151.101.0.133, 151.101.64.133, 151.101.128.133, ...\n",
            "Connecting to raw.githubusercontent.com (raw.githubusercontent.com)|151.101.0.133|:443... connected.\n",
            "HTTP request sent, awaiting response... 200 OK\n",
            "Length: 5839783 (5.6M) [text/plain]\n",
            "Saving to: ‘love-twitter-malaysia.json’\n",
            "\n",
            "\r          love-twit   0%[                    ]       0  --.-KB/s               \rlove-twitter-malays 100%[===================>]   5.57M  --.-KB/s    in 0.07s   \n",
            "\n",
            "2019-11-05 03:33:56 (82.7 MB/s) - ‘love-twitter-malaysia.json’ saved [5839783/5839783]\n",
            "\n"
          ],
          "name": "stdout"
        }
      ]
    },
    {
      "cell_type": "code",
      "metadata": {
        "id": "uVhZPpwloFoY",
        "colab_type": "code",
        "colab": {
          "base_uri": "https://localhost:8080/",
          "height": 185
        },
        "outputId": "edf58ddc-6996-4b35-d6ac-2b67c6f64c38"
      },
      "source": [
        "    \n",
        "with open('love-twitter-malaysia.json') as fopen:\n",
        "  love = json.load(fopen)\n",
        "love[:10]"
      ],
      "execution_count": 8,
      "outputs": [
        {
          "output_type": "execute_result",
          "data": {
            "text/plain": [
              "['Oh ternyata semua karena rindu beb..',\n",
              " 'Toklaki : Syg jual la sokok tigo tuu\\nLily : mari la gambar. Keno ado gambar goni\\nToklaki : ambik la gambar\\nLily : t https://t.co/zmlnkXFPbd',\n",
              " '@farynn01 Aku pun rindu nak terima kedatangan hang. Nnt ada rezeki jumpa weh could use a friendly faces. Sikit ja l https://t.co/IVOPUig3Qx',\n",
              " '@mommy_elzar Untung badan aku kecil, gak berat. Cuma gak ada yang bilang cinta aja..',\n",
              " 'Itu baru cinta katanya https://t.co/h3gX29oohF',\n",
              " 'Baby sayang kau laa lahanat ! please la hantar ni org p tg rambutan atau bukit padang kah.. mental disorder banar ! https://t.co/nUNkbhVJ5I',\n",
              " 'Hmmm rindu ke tu',\n",
              " '@SulaimanAlis sebelom ni syg tak melimpah ruah ke ? asye asye jela ?',\n",
              " 'Sayang mandikan. Nak sayang duduk sebelah..nak sayang suapkan.. aloloo abang zarill..\\n#AkuYangKauTinggalkan',\n",
              " '14052019M09091440H2002020132HH\\nADA SEBAB BERTEMU\\n\\nKalau rindu seseorang berdoalah kepada Allah dengan doa yang ba https://t.co/Bx0D3dc8Uo']"
            ]
          },
          "metadata": {
            "tags": []
          },
          "execution_count": 8
        }
      ]
    },
    {
      "cell_type": "code",
      "metadata": {
        "id": "SASekUBfoMk7",
        "colab_type": "code",
        "colab": {
          "base_uri": "https://localhost:8080/",
          "height": 34
        },
        "outputId": "383aed2d-793f-4fc3-81af-41f17477a2d8"
      },
      "source": [
        "len(love), len(politics['kerajaan']), len(politics['pembangkang'])"
      ],
      "execution_count": 9,
      "outputs": [
        {
          "output_type": "execute_result",
          "data": {
            "text/plain": [
              "(59242, 15120, 7457)"
            ]
          },
          "metadata": {
            "tags": []
          },
          "execution_count": 9
        }
      ]
    },
    {
      "cell_type": "code",
      "metadata": {
        "id": "0GVD4eOAoP4v",
        "colab_type": "code",
        "colab": {}
      },
      "source": [
        "import random\n",
        "\n",
        "sample_love = random.sample(love,500)\n",
        "sample_kerajaan = random.sample(politics['kerajaan'],500)\n",
        "sample_pembangkang = random.sample(politics['pembangkang'],500)"
      ],
      "execution_count": 0,
      "outputs": []
    },
    {
      "cell_type": "code",
      "metadata": {
        "id": "uyFnuGsVpG5_",
        "colab_type": "code",
        "colab": {}
      },
      "source": [
        "import re\n",
        "\n",
        "def cleaning(string):\n",
        "  string = re.sub(\n",
        "        'http\\S+|www.\\S+',\n",
        "        '',\n",
        "        ' '.join(\n",
        "            [\n",
        "                word\n",
        "                for word in string.split()\n",
        "                if word.find('#') < 0 and word.find('@') < 0\n",
        "            ]\n",
        "        ),\n",
        "    )\n",
        "  string = re.sub('[^A-Za-z ]+', ' ', string)\n",
        "  string = re.sub(r'[ ]+', ' ', string).strip()\n",
        "  return string.lower()\n",
        "\n"
      ],
      "execution_count": 0,
      "outputs": []
    },
    {
      "cell_type": "code",
      "metadata": {
        "id": "HNg3gltLtqb0",
        "colab_type": "code",
        "colab": {
          "base_uri": "https://localhost:8080/",
          "height": 34
        },
        "outputId": "ffcb6969-5f51-40eb-d7cf-de9b229ae593"
      },
      "source": [
        "\n",
        "love[0], cleaning(love[0])\n",
        "\n"
      ],
      "execution_count": 14,
      "outputs": [
        {
          "output_type": "execute_result",
          "data": {
            "text/plain": [
              "('Oh ternyata semua karena rindu beb..', 'oh ternyata semua karena rindu beb')"
            ]
          },
          "metadata": {
            "tags": []
          },
          "execution_count": 14
        }
      ]
    },
    {
      "cell_type": "code",
      "metadata": {
        "id": "aaleE2LNtwf9",
        "colab_type": "code",
        "colab": {
          "base_uri": "https://localhost:8080/",
          "height": 34
        },
        "outputId": "4bc388ef-77d4-4fca-dcd6-b581899cd8f6"
      },
      "source": [
        "X = sample_love + sample_kerajaan + sample_pembangkang\n",
        "len(X)\n"
      ],
      "execution_count": 15,
      "outputs": [
        {
          "output_type": "execute_result",
          "data": {
            "text/plain": [
              "1500"
            ]
          },
          "metadata": {
            "tags": []
          },
          "execution_count": 15
        }
      ]
    },
    {
      "cell_type": "code",
      "metadata": {
        "id": "3ftvUlTvt2Tj",
        "colab_type": "code",
        "colab": {
          "base_uri": "https://localhost:8080/",
          "height": 101
        },
        "outputId": "2c1c03c8-52fa-40c1-ddde-285c521cfc33"
      },
      "source": [
        "\n",
        "# 0 = love\n",
        "# 1 = kerajaan\n",
        "# 2 = pembangkang\n",
        "\n",
        "Y = [0] * len(sample_love) + [1] * len(sample_kerajaan) \\\n",
        "+ [2] * len(sample_pembangkang)\n",
        "\n",
        "for i in range(len(X)):\n",
        "  X[i] = cleaning(X[i])\n",
        "\n",
        "X[:5]\n"
      ],
      "execution_count": 17,
      "outputs": [
        {
          "output_type": "execute_result",
          "data": {
            "text/plain": [
              "['sayang banget padamu prof',\n",
              " 'rindu biak kelas sidaknya x pernah mandang rendah kt org lain kdk urg disitok hmmm',\n",
              " 'hahahahahaha mesti rindu kerepek anum kan semua org',\n",
              " 'selamat menikmati hari jum at mari tebarkan senyum dan berikan kasih sayang supaya hidup lebih berkah dan lebih be',\n",
              " 'hahahahaha gurau jela rindu sume orang kecuali yang dah ade gf']"
            ]
          },
          "metadata": {
            "tags": []
          },
          "execution_count": 17
        }
      ]
    },
    {
      "cell_type": "code",
      "metadata": {
        "id": "A551jIecuBwj",
        "colab_type": "code",
        "colab": {
          "base_uri": "https://localhost:8080/",
          "height": 34
        },
        "outputId": "9be8fb9d-e0b2-4362-8547-d26b62d935f6"
      },
      "source": [
        "\n",
        "x = ['saya suka ayam', 'saya suka daging', 'saya tak makan ayam']\n",
        "x\n",
        "\n",
        "v = list(set(' '.join(x).split()))\n",
        "v\n"
      ],
      "execution_count": 18,
      "outputs": [
        {
          "output_type": "execute_result",
          "data": {
            "text/plain": [
              "['suka', 'saya', 'daging', 'tak', 'ayam', 'makan']"
            ]
          },
          "metadata": {
            "tags": []
          },
          "execution_count": 18
        }
      ]
    },
    {
      "cell_type": "code",
      "metadata": {
        "id": "ObVPSmWjuFBN",
        "colab_type": "code",
        "colab": {
          "base_uri": "https://localhost:8080/",
          "height": 67
        },
        "outputId": "302f0489-6b52-4c9e-b38d-9ace3a54ebdf"
      },
      "source": [
        "import numpy as np\n",
        "\n",
        "bow = np.zeros((len(x), len(v)))\n",
        "bow\n"
      ],
      "execution_count": 19,
      "outputs": [
        {
          "output_type": "execute_result",
          "data": {
            "text/plain": [
              "array([[0., 0., 0., 0., 0., 0.],\n",
              "       [0., 0., 0., 0., 0., 0.],\n",
              "       [0., 0., 0., 0., 0., 0.]])"
            ]
          },
          "metadata": {
            "tags": []
          },
          "execution_count": 19
        }
      ]
    },
    {
      "cell_type": "code",
      "metadata": {
        "id": "TTtjh4h-uQyE",
        "colab_type": "code",
        "colab": {
          "base_uri": "https://localhost:8080/",
          "height": 67
        },
        "outputId": "95ac0beb-c1d7-41a3-b846-56e2c4f54b15"
      },
      "source": [
        "for no, string in enumerate(x):\n",
        "  for word in string.split():\n",
        "    if word in v:\n",
        "      bow[no, v.index(word)] += 1\n",
        "\n",
        "bow"
      ],
      "execution_count": 22,
      "outputs": [
        {
          "output_type": "execute_result",
          "data": {
            "text/plain": [
              "array([[3., 3., 0., 0., 3., 0.],\n",
              "       [3., 3., 3., 0., 0., 0.],\n",
              "       [0., 3., 0., 3., 3., 3.]])"
            ]
          },
          "metadata": {
            "tags": []
          },
          "execution_count": 22
        }
      ]
    },
    {
      "cell_type": "code",
      "metadata": {
        "id": "ZKP7Pd3Juki4",
        "colab_type": "code",
        "colab": {
          "base_uri": "https://localhost:8080/",
          "height": 34
        },
        "outputId": "c536aa8a-5f9f-4e9a-e10c-63d5efe9991e"
      },
      "source": [
        "vocab = ''.join(X).split()\n",
        "vocab = list(set(vocab))\n",
        "len(vocab)\n"
      ],
      "execution_count": 26,
      "outputs": [
        {
          "output_type": "execute_result",
          "data": {
            "text/plain": [
              "6577"
            ]
          },
          "metadata": {
            "tags": []
          },
          "execution_count": 26
        }
      ]
    },
    {
      "cell_type": "code",
      "metadata": {
        "id": "kcDsqLcQvffx",
        "colab_type": "code",
        "colab": {}
      },
      "source": [
        "bow = np.zeros((len(X), len(vocab)))"
      ],
      "execution_count": 0,
      "outputs": []
    },
    {
      "cell_type": "code",
      "metadata": {
        "id": "y1jVHbN6vj-p",
        "colab_type": "code",
        "colab": {}
      },
      "source": [
        "for no, string in enumerate(X):\n",
        "  for word in string.split():\n",
        "    if word in vocab:\n",
        "      bow[no, vocab.index(word)] += 1"
      ],
      "execution_count": 0,
      "outputs": []
    },
    {
      "cell_type": "code",
      "metadata": {
        "id": "Gsn7MN2svlmX",
        "colab_type": "code",
        "colab": {
          "base_uri": "https://localhost:8080/",
          "height": 34
        },
        "outputId": "7ae4cff4-9fdd-4748-edb1-30b9572b76ea"
      },
      "source": [
        "y, count_labels = np.unique(Y, return_counts = True)\n",
        "print(y, count_labels)\n"
      ],
      "execution_count": 29,
      "outputs": [
        {
          "output_type": "stream",
          "text": [
            "[0 1 2] [500 500 500]\n"
          ],
          "name": "stdout"
        }
      ]
    },
    {
      "cell_type": "code",
      "metadata": {
        "id": "6cPsMP0pvrY7",
        "colab_type": "code",
        "colab": {
          "base_uri": "https://localhost:8080/",
          "height": 34
        },
        "outputId": "8e88a653-0278-4a54-fd19-887f11b9a9cd"
      },
      "source": [
        "labels = {}\n",
        "for no, label in enumerate(y):\n",
        "  labels[label] = count_labels[no] / sum(count_labels)\n",
        "\n",
        "labels"
      ],
      "execution_count": 30,
      "outputs": [
        {
          "output_type": "execute_result",
          "data": {
            "text/plain": [
              "{0: 0.3333333333333333, 1: 0.3333333333333333, 2: 0.3333333333333333}"
            ]
          },
          "metadata": {
            "tags": []
          },
          "execution_count": 30
        }
      ]
    },
    {
      "cell_type": "code",
      "metadata": {
        "id": "vx-0fHre1L3v",
        "colab_type": "code",
        "colab": {
          "base_uri": "https://localhost:8080/",
          "height": 34
        },
        "outputId": "c6d9903f-df91-4328-ee00-acfa4e798f1d"
      },
      "source": [
        "total_freqs = {}\n",
        "\n",
        "for label in y:\n",
        "  total_freqs[label] = bow[Y == label].sum()\n",
        "\n",
        "total_freqs"
      ],
      "execution_count": 31,
      "outputs": [
        {
          "output_type": "execute_result",
          "data": {
            "text/plain": [
              "{0: 6517.0, 1: 4951.0, 2: 5825.0}"
            ]
          },
          "metadata": {
            "tags": []
          },
          "execution_count": 31
        }
      ]
    },
    {
      "cell_type": "code",
      "metadata": {
        "id": "u2uWQAUZ1VAi",
        "colab_type": "code",
        "colab": {
          "base_uri": "https://localhost:8080/",
          "height": 134
        },
        "outputId": "f7f38828-5d03-40d0-a02b-a55b4dce28d6"
      },
      "source": [
        "probability_table = np.zeros((len(vocab), len(labels)))\n",
        "\n",
        "for label in y:\n",
        "  p = (bow[Y == label].sum(axis = 0) + 1) / (total_freqs[0] + len(vocab))\n",
        "  probability_table[:,label] = p\n",
        "\n",
        "probability_table"
      ],
      "execution_count": 32,
      "outputs": [
        {
          "output_type": "execute_result",
          "data": {
            "text/plain": [
              "array([[7.63708569e-05, 2.29112571e-04, 7.63708569e-05],\n",
              "       [7.63708569e-05, 7.63708569e-05, 1.52741714e-04],\n",
              "       [7.63708569e-05, 7.63708569e-05, 1.52741714e-04],\n",
              "       ...,\n",
              "       [7.63708569e-05, 7.63708569e-05, 7.63708569e-05],\n",
              "       [1.52741714e-04, 7.63708569e-05, 7.63708569e-05],\n",
              "       [7.63708569e-05, 7.63708569e-05, 7.63708569e-05]])"
            ]
          },
          "metadata": {
            "tags": []
          },
          "execution_count": 32
        }
      ]
    },
    {
      "cell_type": "code",
      "metadata": {
        "id": "jhDaPXFZ2xdS",
        "colab_type": "code",
        "colab": {
          "base_uri": "https://localhost:8080/",
          "height": 50
        },
        "outputId": "8f403621-b99b-47f6-c88b-31c6e4679091"
      },
      "source": [
        "y, count_labels = np.unique(Y, return_counts = True)\n",
        "print(y, count_labels)\n",
        "\n",
        "labels = []\n",
        "for no, label in enumerate(y):\n",
        "  labels.append(count_labels[no] / sum(count_labels))\n",
        "\n",
        "labels"
      ],
      "execution_count": 33,
      "outputs": [
        {
          "output_type": "stream",
          "text": [
            "[0 1 2] [500 500 500]\n"
          ],
          "name": "stdout"
        },
        {
          "output_type": "execute_result",
          "data": {
            "text/plain": [
              "[0.3333333333333333, 0.3333333333333333, 0.3333333333333333]"
            ]
          },
          "metadata": {
            "tags": []
          },
          "execution_count": 33
        }
      ]
    },
    {
      "cell_type": "code",
      "metadata": {
        "id": "syGlCB7t24BY",
        "colab_type": "code",
        "colab": {
          "base_uri": "https://localhost:8080/",
          "height": 168
        },
        "outputId": "81b0969b-a564-4429-a0e3-8d8ce7f67e80"
      },
      "source": [
        "enumerator=(bow.dot(probability_table)) * labels\n",
        "denominator= enumerator.sum(axis=1, keepdims=True)\n",
        "enumerator/denominator"
      ],
      "execution_count": 35,
      "outputs": [
        {
          "output_type": "stream",
          "text": [
            "/usr/local/lib/python3.6/dist-packages/ipykernel_launcher.py:3: RuntimeWarning: invalid value encountered in true_divide\n",
            "  This is separate from the ipykernel package so we can avoid doing imports until\n"
          ],
          "name": "stderr"
        },
        {
          "output_type": "execute_result",
          "data": {
            "text/plain": [
              "array([[0.95721925, 0.02139037, 0.02139037],\n",
              "       [0.74172185, 0.1192053 , 0.13907285],\n",
              "       [0.70261438, 0.12091503, 0.17647059],\n",
              "       ...,\n",
              "       [0.18561151, 0.2       , 0.61438849],\n",
              "       [0.24471299, 0.29003021, 0.4652568 ],\n",
              "       [0.13651877, 0.13822526, 0.72525597]])"
            ]
          },
          "metadata": {
            "tags": []
          },
          "execution_count": 35
        }
      ]
    },
    {
      "cell_type": "code",
      "metadata": {
        "id": "2SGpkI514PXu",
        "colab_type": "code",
        "colab": {
          "base_uri": "https://localhost:8080/",
          "height": 34
        },
        "outputId": "024a47e9-b57e-46fe-e1ce-655532a03c50"
      },
      "source": [
        "string = 'saya sayang kerajaan'\n",
        "\n",
        "new_bow = np.zeros((1, len(vocab)))\n",
        "\n",
        "for word in string.split():\n",
        "  if word in vocab:\n",
        "    new_bow[0, vocab.index(word)] += 1\n",
        "\n",
        "enumerator = (new_bow.dot(probability_table)) * labels\n",
        "denominator = enumerator.sum(axis = 1, keepdims = True)\n",
        "enumerator / denominator"
      ],
      "execution_count": 42,
      "outputs": [
        {
          "output_type": "execute_result",
          "data": {
            "text/plain": [
              "array([[0.25983146, 0.61657303, 0.12359551]])"
            ]
          },
          "metadata": {
            "tags": []
          },
          "execution_count": 42
        }
      ]
    }
  ]
}